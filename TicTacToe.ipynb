import random 
play_game = True
cont = -1
while play_game:
    print("____________________________________________________________________________________________________________________")
    print()
    print("Welcome to Asmii's Tic Tac Toe !")
    print()
    
    player1_wins = 0
    player2_wins = 0
    
    choice = ["   ", "   ", "   ", "   ", "   ", "   ", "   ", "   ", "   "]
    name1_check = False
    name2_check = False
    previous_round = ""
    
    toss_check = False
    check_mode = False

    while check_mode == False:
        try:
            mode = int(input("Choose a mode to play (best of 3/5/7): "))
            print()
            if (mode != 3) and (mode != 5) and (mode != 7):
                print("Please enter a number 3/5/7: ")
                check_mode = False
            else:
                check_mode = True
        except ValueError:
            print("Invalid data type. Please enter a number 3/5/7")
            print()
            
    round = 1
    
    while (round <= mode) and ((player1_wins < (mode//2)+1) or (player2_wins < (mode//2)+1)):
        print("Round", round)
        print()
        
        choice = ["   ", "   ", "   ", "   ", "   ", "   ", "   ", "   ", "   "]
        print(" 1 | 2 | 3 ")
        print("--- --- ---")
        print(" 4 | 5 | 6 ")
        print("--- --- ---")
        print(" 7 | 8 | 9 ")
        
        if round == 1:
            while name1_check == False:
                try:
                    name1 = input("Player 1 Enter your name: ")
                    if len(name1.strip()) == 0:
                        print("Please enter a name")
                        print()
                    else:
                        name1_check = True
                except ValueError:
                    print("Invalid data type. Please enter a string value")
                    print()
                
            while name2_check == False:
                try: 
                    name2 = input("Player 2 Enter your name: ")
                    if len(name2.strip()) == 0:
                        print("Please enter a name")
                        print()
                    else:
                        name2_check = True
                except ValueError:
                    print("Invalid data type. Please enter a string value")
                    print()
 
            while toss_check == False:
                try:
                    c1 = input(f"{name1} choose heads or tails for the toss to decide who plays first: ")
                    if len(c1.strip()) == 0:
                        print("Please enter a choice (heads/tails): ")
                        print()
                    elif ((c1.lower()) != 'heads') and ((c1.lower()) != 'tails'):
                        print("Please enter the correct choice (heads/tails): ")
                        print()
                    else:
                        toss_check = True
                except ValueError:
                    print("Invalid data type. Please enter a string value (heads/tails)")
                    print()

            
            
            symbol_check1 = True
            symbol_check2 = True

            # 0 - heads, 1 - tails 
            outcome = random.randint(0,1)
            if (outcome == 0 and c1.lower() == 'heads') or (outcome == 1 and c1.lower() == 'tails'):
                won = name1
                previous_round = name1
                print("Congratulations", name1, "you have won the toss !, you get to play first")
                symbol_check1 = False
                                  
            else:
                print("Congratulations", name2, "you have won the toss !, you get to play first")
                won = name2
                previous_round = name2
                symbol_check2 = False
    
        print()
        print("Current Scoreboard: \t\t", name1, ": ", player1_wins, "\t\t",  name2, ": ", player2_wins )
        print()
        
        while (symbol_check1 == False) and (previous_round == name1):
                try:
                    symbol1 = input(f"{name1} choose a symbol (X/O): ")
                    if len(symbol1.strip()) == 0:
                        print("Please choose a symbol (X/O): ")
                        print()
                    elif ((symbol1.strip()).upper() not in ("XO")):
                        print("Please choose a valid symbol (X/O): ")
                        print()
                    else:
                        symbol_check1 = True 
                        if (symbol1.upper()).strip() == "X":
                            symbol1 = " X "
                            symbol2 = " O "
                            
                        else:
                            symbol2 = " X "
                            symbol1 = " O "
                except ValueError:
                    print("Invalid data type. Please enter a string value for the symbol(X/O)")
                    print()
        
        while (symbol_check2 == False) and (previous_round == name2):  
            try:
                symbol2 = input(f"{name2} choose a symbol (X/O): ")
                if len(symbol2.strip()) == 0:
                    print("Please choose a symbol (X/O): ")
                    print()
                elif ((symbol2.strip()).upper() not in ("XO")):
                    print("Please choose a valid symbol (X/O): ")
                    print()
                else:
                    symbol_check2 = True
                    if (symbol2.strip()).upper() == "X":
                        symbol2 = " X "
                        symbol1 = " O "
                    else:
                        symbol1 = " X "
                        symbol2 = " O "
                    
            except ValueError:
                print("Invalid data type. Please enter a string value for the symbol(X/O)")
                print()

        print() 

        print(name1,"has the symbol", symbol1)
        print(name2,"has the symbol", symbol2)

        print() 
    
        if previous_round == name1:
            game = True
            while game:
                flag = True
                while flag:
                    try:
                        p1 = int(input((f"{name1} choose a square to put your symbol: ")))
                        if (p1 < 1) or (p1 > 9):
                            print("Please enter a number from 1-9 to place your symbol on the grid: ")
                            print()
                        elif choice[p1-1] != "   ":
                            print("This square is already filled")
                        else:
                            flag = False
                            choice[p1-1] = symbol1
                
                    except ValueError:
                        print("Invalid data type. Please enter an integer value between 1-9")
                        print()

                print(choice[0],"|",choice[1],"|",choice[2],sep="")
                print("--- --- ---")
                print(choice[3],"|",choice[4],"|",choice[5],sep="")
                print("--- --- ---")
                print(choice[6],"|",choice[7],"|",choice[8],sep="")
        
                if (choice[0] == symbol1 and choice[1] == symbol1 and choice[2] == symbol1) or (choice[3] == symbol1 and choice[4] == symbol1 and choice[5] == symbol1) or (choice[6] == symbol1 and choice[7] == symbol1 and choice[8] == symbol1) or (choice[0] == symbol1 and choice[3] == symbol1 and choice[6] == symbol1) or (choice[1] == symbol1 and choice[4] == symbol1 and choice[7] == symbol1) or (choice[2] == symbol1 and choice[5] == symbol1 and choice[8] == symbol1) or (choice[0] == symbol1 and choice[4] == symbol1 and choice[8] == symbol1) or (choice[2] == symbol1 and choice[4] == symbol1 and choice[6] == symbol1):
                    game = False
                    print()
                    print("Congratulations",name1, "wins this round")
                    player1_wins += 1
                    round += 1
                    previous_round = name1
                    break

                if "   " not in choice and game == True: 
                    print("This round is a draw")
                    game = False
                    round += 1
                    break
                
                else: 
                    flag1 = True
                    while flag1:
                        try:
                            p2 = int(input((f"{name2} choose a square to put your symbol: ")))
                            if (p2 < 1) or (p2 > 9):
                                print("Please enter a number from 1-9 to place your symbol on the grid: ")
                                print()
                            elif choice[p2-1] != "   ":
                                print("This square is already filled")
                            else:
                                flag1 = False
                                choice[p2-1] = symbol2
                        except:
                            print("Invalid data type. Please enter an integer value between 1-9")
                            print()  
                    
                    print(choice[0],"|",choice[1],"|",choice[2],sep="")
                    print("--- --- ---")
                    print(choice[3],"|",choice[4],"|",choice[5],sep="")
                    print("--- --- ---")
                    print(choice[6],"|",choice[7],"|",choice[8],sep="")
        
                    if (choice[0] == symbol2 and choice[1] == symbol2 and choice[2] == symbol2) or (choice[3] == symbol2 and choice[4] == symbol2 and choice[5] == symbol2) or (choice[6] == symbol2 and choice[7] == symbol2 and choice[8] == symbol2) or (choice[0] == symbol2 and choice[3] == symbol2 and choice[6] == symbol2) or (choice[1] == symbol2 and choice[4] == symbol2 and choice[7] == symbol2) or (choice[2] == symbol2 and choice[5] == symbol2 and choice[8] == symbol2) or (choice[0] == symbol2 and choice[4] == symbol2 and choice[8] == symbol2) or (choice[2] == symbol2 and choice[4] == symbol2 and choice[6] == symbol2):
                        game = False
                        round += 1
                        print()
                        print("Congratulations",name2, "wins this round!!")
                        previous_round = name2
                        player2_wins += 1
                        break

                    if "   " not in choice and game == True: 
                        print("This round is a draw")
                        game = False
                        round += 1
                        break
                    
        elif previous_round == name2:   
            game = True
            while game:
                flag = True
                while flag:
                    try:
                        p2 = int(input((f"{name2} choose a square to put your symbol: ")))
                        if (p2 < 1) or (p2 > 9):
                            print("Please enter a number from 1-9 to place your symbol on the grid: ")
                            print()
                        elif choice[p2-1] != "   ":
                            print("This square is already filled")
                        else:
                            flag = False
                            choice[p2-1] = symbol2
                    except ValueError:
                        print("Invalid data type. Please enter an integer value between 1-9")
                        print()
          
                print(choice[0],"|",choice[1],"|",choice[2],sep="")
                print("--- --- ---")
                print(choice[3],"|",choice[4],"|",choice[5],sep="")
                print("--- --- ---")
                print(choice[6],"|",choice[7],"|",choice[8],sep="")
        
                if (choice[0] == symbol2 and choice[1] == symbol2 and choice[2] == symbol2) or (choice[3] == symbol2 and choice[4] == symbol2 and choice[5] == symbol2) or (choice[6] == symbol2 and choice[7] == symbol2 and choice[8] == symbol2) or (choice[0] == symbol2 and choice[3] == symbol2 and choice[6] == symbol2) or (choice[1] == symbol2 and choice[4] == symbol2 and choice[7] == symbol2) or (choice[2] == symbol2 and choice[5] == symbol2 and choice[8] == symbol2) or (choice[0] == symbol2 and choice[4] == symbol2 and choice[8] == symbol2) or (choice[2] == symbol2 and choice[4] == symbol2 and choice[6] == symbol2):
                    game = False
                    print()
                    print("Congratulations",name2, "wins this round!!")
                    player2_wins += 1
                    previous_round = name2
                    round += 1
                    break
        
                if "   " not in choice and game == True: 
                    print("The game is a draw")
                    game = False
                    round += 1
                    break

                else: 
                    flag1 = True
                    while flag1:
                        try:
                            p1 = int(input((f"{name1} choose a square to put your symbol: ")))
                            print()
                            if (p1 < 1) or (p1 > 9):
                                print("Please enter a number from 1-9 to place your symbol on the grid")
                                print()
                            elif choice[p1-1] != "   ":
                                print("This square is already filled")
                            else:
                                flag1 = False
                                choice[p1-1] = symbol1
                        except ValueError:
                            print("Invalid data type. Please enter an integer value between 1-9")
                            print()
    
                    print(choice[0],"|",choice[1],"|",choice[2],sep="")
                    print("--- --- ---")
                    print(choice[3],"|",choice[4],"|",choice[5],sep="")
                    print("--- --- ---")
                    print(choice[6],"|",choice[7],"|",choice[8],sep="")
        
                    if (choice[0] == symbol1 and choice[1] == symbol1 and choice[2] == symbol1) or (choice[3] == symbol1 and choice[4] == symbol1 and choice[5] == symbol1) or (choice[6] == symbol1 and choice[7] == symbol1 and choice[8] == symbol1) or (choice[0] == symbol1 and choice[3] == symbol1 and choice[6] == symbol1) or (choice[1] == symbol1 and choice[4] == symbol1 and choice[7] == symbol1) or (choice[2] == symbol1 and choice[5] == symbol1 and choice[8] == symbol1) or (choice[0] == symbol1 and choice[4] == symbol1 and choice[8] == symbol1) or (choice[2] == symbol1 and choice[4] == symbol1 and choice[6] == symbol1):
                        game = False
                        print()
                        print("Congratulations",name1, "wins this round!!")
                        player1_wins += 1
                        previous_round = name1
                        round += 1
                        break
        
                    if "   " not in choice and game == True: 
                        print("This round is a draw")
                        game = False
                        round += 1
                        break
        print()

        if (player1_wins >= (mode//2)+1):
            print(name1, "is the winner for this set !!")
            print()
            cont = 1
            break
            
        elif (player2_wins >= (mode//2)+1):
            print(name2, "is the winner for this set !!")
            print()
            cont = 1
            break
        
        elif (round > mode) and (player1_wins == player2_wins):
            print("This set ended in a draw")
            print()
            cont = 1
            break
            
    if (round > mode) or (cont == 1):
        choice = False
        while choice == False:
            try:
                play = input("Do you wish to play again ?")
                if len(play.strip()) == 0:
                    print("Do you wish to play again ?")

                elif play.lower() != "yes":
                    choice = False
                    play_game = False
                    break

                else:
                    play_game = True
                    choice = True
                    print()
                    print()
            except:
                print("Invalid data type. Please enter a string value")
                print()
